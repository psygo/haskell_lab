{
 "cells": [
  {
   "cell_type": "code",
   "execution_count": 2,
   "id": "6ac4fcb8",
   "metadata": {},
   "outputs": [
    {
     "ename": "",
     "evalue": "",
     "output_type": "error",
     "traceback": [
      "<interactive>:1:1: error:\n    Could not find module ‘Database.HDBC.Sqlite3’\n    Use -v (or `:set -v` in ghci) to see a list of the files searched for."
     ]
    }
   ],
   "source": [
    "import Text.Printf\n",
    "import Text.Regex.Posix\n",
    "import Database.HDBC.Sqlite3\n",
    "import Database.HDBC\n",
    "import Data.List"
   ]
  },
  {
   "cell_type": "code",
   "execution_count": 3,
   "id": "ca18a38f",
   "metadata": {},
   "outputs": [
    {
     "ename": "",
     "evalue": "",
     "output_type": "error",
     "traceback": [
      "<interactive>:1:7: error: Variable not in scope: connectSqlite3 :: String -> IO a0"
     ]
    }
   ],
   "source": [
    "db <- connectSqlite3 \"../data/usgs.sqlite3\""
   ]
  },
  {
   "cell_type": "code",
   "execution_count": 4,
   "id": "b6db708a",
   "metadata": {},
   "outputs": [
    {
     "ename": "",
     "evalue": "",
     "output_type": "error",
     "traceback": [
      "<interactive>:1:18: error: Variable not in scope: fromSql :: a -> b"
     ]
    }
   ],
   "source": [
    "readColumn = map fromSql"
   ]
  },
  {
   "cell_type": "code",
   "execution_count": null,
   "id": "7ac16b96",
   "metadata": {},
   "outputs": [],
   "source": []
  }
 ],
 "metadata": {
  "kernelspec": {
   "display_name": "Haskell",
   "language": "haskell",
   "name": "haskell"
  },
  "language_info": {
   "codemirror_mode": "ihaskell",
   "file_extension": ".hs",
   "mimetype": "text/x-haskell",
   "name": "haskell",
   "pygments_lexer": "Haskell",
   "version": "8.10.4"
  }
 },
 "nbformat": 4,
 "nbformat_minor": 5
}
