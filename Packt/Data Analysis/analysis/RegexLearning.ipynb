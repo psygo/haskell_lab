{
 "cells": [
  {
   "cell_type": "code",
   "execution_count": 1,
   "id": "96d81b5b",
   "metadata": {},
   "outputs": [],
   "source": [
    "import Text.Regex.Posix"
   ]
  },
  {
   "cell_type": "code",
   "execution_count": 2,
   "id": "52ed9cbb",
   "metadata": {},
   "outputs": [],
   "source": [
    "str1 = \"one fish two fish red fish blue fish\""
   ]
  },
  {
   "cell_type": "code",
   "execution_count": 3,
   "id": "58755233",
   "metadata": {},
   "outputs": [],
   "source": [
    "str2 = \"The quick brown fox jumps over the lazy dog.\""
   ]
  },
  {
   "cell_type": "code",
   "execution_count": 4,
   "id": "0d7f6acc",
   "metadata": {},
   "outputs": [
    {
     "data": {
      "text/plain": [
       "True"
      ]
     },
     "metadata": {},
     "output_type": "display_data"
    }
   ],
   "source": [
    "str1 =~ \"one\" :: Bool -- does the string `one` exist in `str1`?"
   ]
  },
  {
   "cell_type": "code",
   "execution_count": 5,
   "id": "b9f3dc69",
   "metadata": {},
   "outputs": [
    {
     "data": {
      "text/plain": [
       "True"
      ]
     },
     "metadata": {},
     "output_type": "display_data"
    }
   ],
   "source": [
    "str1 =~ \"o.e\" :: Bool"
   ]
  },
  {
   "cell_type": "code",
   "execution_count": 6,
   "id": "9110ce55",
   "metadata": {},
   "outputs": [
    {
     "data": {
      "text/plain": [
       "True"
      ]
     },
     "metadata": {},
     "output_type": "display_data"
    }
   ],
   "source": [
    "str1 =~ \"fish|fox\" :: Bool"
   ]
  },
  {
   "cell_type": "code",
   "execution_count": 7,
   "id": "08362f28",
   "metadata": {},
   "outputs": [
    {
     "data": {
      "text/plain": [
       "True"
      ]
     },
     "metadata": {},
     "output_type": "display_data"
    }
   ],
   "source": [
    "\"1969-07-20\" =~ \"(19|20)..-..-..\" :: Bool"
   ]
  },
  {
   "cell_type": "markdown",
   "id": "366c9277",
   "metadata": {},
   "source": [
    "Spellings:\n",
    "\n",
    "- color\n",
    "- colour\n",
    "- Wrong: coluor"
   ]
  },
  {
   "cell_type": "code",
   "execution_count": 8,
   "id": "14ad2b4d",
   "metadata": {},
   "outputs": [
    {
     "data": {
      "text/plain": [
       "True"
      ]
     },
     "metadata": {},
     "output_type": "display_data"
    }
   ],
   "source": [
    "\"color\" =~ \"colou?r\" :: Bool"
   ]
  },
  {
   "cell_type": "code",
   "execution_count": 9,
   "id": "c5d66eac",
   "metadata": {},
   "outputs": [
    {
     "data": {
      "text/plain": [
       "True"
      ]
     },
     "metadata": {},
     "output_type": "display_data"
    }
   ],
   "source": [
    "\"1122\" =~ \"1*2*\" :: Bool"
   ]
  },
  {
   "cell_type": "code",
   "execution_count": 10,
   "id": "d3429b62",
   "metadata": {},
   "outputs": [
    {
     "data": {
      "text/plain": [
       "False"
      ]
     },
     "metadata": {},
     "output_type": "display_data"
    }
   ],
   "source": [
    "\"11\" =~ \"1+2+\" :: Bool"
   ]
  },
  {
   "cell_type": "code",
   "execution_count": 11,
   "id": "dbf6b980",
   "metadata": {},
   "outputs": [
    {
     "data": {
      "text/plain": [
       "False"
      ]
     },
     "metadata": {},
     "output_type": "display_data"
    }
   ],
   "source": [
    "\"1223\" =~ \"12{3,5}3\" :: Bool"
   ]
  },
  {
   "cell_type": "code",
   "execution_count": 12,
   "id": "3260a014",
   "metadata": {},
   "outputs": [
    {
     "data": {
      "text/plain": [
       "True"
      ]
     },
     "metadata": {},
     "output_type": "display_data"
    }
   ],
   "source": [
    "\"dog\" =~ \"[aeiou]\" :: Bool"
   ]
  },
  {
   "cell_type": "code",
   "execution_count": 13,
   "id": "cede8e1e",
   "metadata": {},
   "outputs": [
    {
     "data": {
      "text/plain": [
       "True"
      ]
     },
     "metadata": {},
     "output_type": "display_data"
    }
   ],
   "source": [
    "\"why\" =~ \"[^aeiou]\" :: Bool"
   ]
  },
  {
   "cell_type": "code",
   "execution_count": 15,
   "id": "3889121c",
   "metadata": {},
   "outputs": [],
   "source": [
    "date1 = \"1969-07-20\""
   ]
  },
  {
   "cell_type": "code",
   "execution_count": 16,
   "id": "372a041c",
   "metadata": {},
   "outputs": [
    {
     "data": {
      "text/plain": [
       "True"
      ]
     },
     "metadata": {},
     "output_type": "display_data"
    }
   ],
   "source": [
    "date1 =~ \"(19|20)[0-9][0-9]-[0-9][0-9]-[0-9][0-9]\" :: Bool"
   ]
  },
  {
   "cell_type": "code",
   "execution_count": 17,
   "id": "cac9d5a0",
   "metadata": {},
   "outputs": [
    {
     "data": {
      "text/plain": [
       "True"
      ]
     },
     "metadata": {},
     "output_type": "display_data"
    }
   ],
   "source": [
    "date1 =~ \"(19|20)[0-9][0-9]-(0[1-9]|1[012])-(0[1-9]|[12][0-9]|3[01])\" :: Bool"
   ]
  },
  {
   "cell_type": "code",
   "execution_count": null,
   "id": "5b005cd2",
   "metadata": {},
   "outputs": [],
   "source": []
  }
 ],
 "metadata": {
  "kernelspec": {
   "display_name": "Haskell",
   "language": "haskell",
   "name": "haskell"
  },
  "language_info": {
   "codemirror_mode": "ihaskell",
   "file_extension": ".hs",
   "mimetype": "text/x-haskell",
   "name": "haskell",
   "pygments_lexer": "Haskell",
   "version": "8.10.4"
  }
 },
 "nbformat": 4,
 "nbformat_minor": 5
}
